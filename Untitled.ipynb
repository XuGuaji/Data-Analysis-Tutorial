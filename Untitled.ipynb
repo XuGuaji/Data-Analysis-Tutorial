{
 "cells": [
  {
   "cell_type": "code",
   "execution_count": 1,
   "id": "c2962a26",
   "metadata": {},
   "outputs": [],
   "source": [
    "import numpy as np"
   ]
  },
  {
   "cell_type": "code",
   "execution_count": 15,
   "id": "5014e491",
   "metadata": {},
   "outputs": [
    {
     "data": {
      "text/plain": [
       "array([145, 153, 168, 466])"
      ]
     },
     "execution_count": 15,
     "metadata": {},
     "output_type": "execute_result"
    }
   ],
   "source": [
    "stand = np.array([145,153,168,145+153+168])\n",
    "stand"
   ]
  },
  {
   "cell_type": "code",
   "execution_count": 16,
   "id": "5553e9d4",
   "metadata": {},
   "outputs": [
    {
     "data": {
      "text/plain": [
       "array([[145, 153, 168, 466],\n",
       "       [145, 153, 168, 466],\n",
       "       [145, 153, 168, 466],\n",
       "       [145, 153, 168, 466],\n",
       "       [145, 153, 168, 466],\n",
       "       [145, 153, 168, 466]])"
      ]
     },
     "execution_count": 16,
     "metadata": {},
     "output_type": "execute_result"
    }
   ],
   "source": [
    "stand = np.tile(stand,(6,1))\n",
    "stand"
   ]
  },
  {
   "cell_type": "code",
   "execution_count": 33,
   "id": "4c0eca9d",
   "metadata": {},
   "outputs": [
    {
     "data": {
      "text/plain": [
       "array([[ 35,  28,  77, 140],\n",
       "       [108,  91, 157, 356],\n",
       "       [ 88,  42,  48, 178],\n",
       "       [ 19,  69, 109, 197],\n",
       "       [130,  76, 160, 366],\n",
       "       [108,  46,  62, 216]])"
      ]
     },
     "execution_count": 33,
     "metadata": {},
     "output_type": "execute_result"
    }
   ],
   "source": [
    "x1 = np.random.randint(1,146,size=(6,1))\n",
    "x2 = np.random.randint(1,154,size=(6,1))\n",
    "x3 = np.random.randint(1,169,size=(6,1))\n",
    "x4 = x1+x2+x3\n",
    "X = np.concatenate([x1, x2,x3,x4], axis=1)\n",
    "X"
   ]
  },
  {
   "cell_type": "code",
   "execution_count": 34,
   "id": "7a067ff0",
   "metadata": {},
   "outputs": [
    {
     "data": {
      "text/plain": [
       "array([[110, 125,  91, 326],\n",
       "       [ 37,  62,  11, 110],\n",
       "       [ 57, 111, 120, 288],\n",
       "       [126,  84,  59, 269],\n",
       "       [ 15,  77,   8, 100],\n",
       "       [ 37, 107, 106, 250]])"
      ]
     },
     "execution_count": 34,
     "metadata": {},
     "output_type": "execute_result"
    }
   ],
   "source": [
    "stand - X"
   ]
  },
  {
   "cell_type": "code",
   "execution_count": null,
   "id": "6b6acc0a",
   "metadata": {},
   "outputs": [],
   "source": []
  }
 ],
 "metadata": {
  "kernelspec": {
   "display_name": "Python 3 (ipykernel)",
   "language": "python",
   "name": "python3"
  },
  "language_info": {
   "codemirror_mode": {
    "name": "ipython",
    "version": 3
   },
   "file_extension": ".py",
   "mimetype": "text/x-python",
   "name": "python",
   "nbconvert_exporter": "python",
   "pygments_lexer": "ipython3",
   "version": "3.9.13"
  }
 },
 "nbformat": 4,
 "nbformat_minor": 5
}
