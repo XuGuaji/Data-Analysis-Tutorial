{
 "cells": [
  {
   "cell_type": "markdown",
   "id": "166fcf8e",
   "metadata": {},
   "source": [
    "选自\n",
    "+ Numpy快速上手指南 --- 基础篇\n",
    "https://www.heywhale.com/mw/project/59ed832d18ec724555a9a968\n",
    "+ Numpy快速上手指南 --- 进阶篇\n",
    "https://www.heywhale.com/mw/project/59f0380e18ec724555ac7e0b"
   ]
  },
  {
   "cell_type": "markdown",
   "id": "9f5516b0",
   "metadata": {},
   "source": [
    "+ 1.概览\n",
    "+ 2.创建数组\n",
    "+ 3.打印数组\n",
    "+ 4.基本运算\n",
    "+ 5.通用函数\n",
    "+ 6.形状操作"
   ]
  },
  {
   "cell_type": "markdown",
   "id": "c80c7d91",
   "metadata": {},
   "source": [
    "## 1、 概览\n",
    "\n",
    "Numpy的主要对象是同种元素的多维数组。这是一个所有的元素都是一种类型、通过一个正整数元组索引的元素表格(通常是元素是数字)。在Numpy中维度(dimensions)叫做轴(axes)，轴的个数叫做秩(rank)。\n",
    "\n",
    "例如，在3D空间一个点的坐标[1, 2, 3]是一个秩为1的数组，因为它只有一个轴。那个轴长度为3.又例如，在以下例子中，数组的秩为2(它有两个维度).第一个维度长度为2,第二个维度长度为3.\n",
    "\n",
    "[[ 1., 0., 0.],\n",
    "\n",
    "[ 0., 1., 2.]]\n",
    "\n",
    "Numpy的数组类被称作ndarray。通常被称作数组。注意numpy.array和标准Python库类array.array并不相同，后者只处理一维数组和提供少量功能。更多重要ndarray对象属性有：\n",
    "\n",
    "+ ndarray.ndim\n",
    "数组轴的个数，在python的世界中，轴的个数被称作秩\n",
    "\n",
    "+ ndarray.shape\n",
    "数组的维度。这是一个指示数组在每个维度上大小的整数元组。例如一个n排m列的矩阵，它的shape属性将是(2,3),这个元组的长度显然是秩，即维度或者ndim属性\n",
    "\n",
    "+ ndarray.size\n",
    "数组元素的总个数，等于shape属性中元组元素的乘积。\n",
    "\n",
    "+ ndarray.dtype\n",
    "一个用来描述数组中元素类型的对象，可以通过创造或指定dtype使用标准Python类型。另外Numpy提供它自己的数据类型。\n",
    "\n",
    "+ ndarray.itemsize\n",
    "数组中每个元素的字节大小。例如，一个元素类型为float64的数组itemsiz属性值为8(=64/8),又如，一个元素类型为complex32的数组item属性为4(=32/8).\n",
    "\n",
    "+ ndarray.data\n",
    "包含实际数组元素的缓冲区，通常我们不需要使用这个属性，因为我们总是通过索引来使用数组中的元素。"
   ]
  },
  {
   "cell_type": "code",
   "execution_count": 1,
   "id": "ee0b3ba3",
   "metadata": {},
   "outputs": [
    {
     "data": {
      "text/plain": [
       "array([[ 0,  1,  2,  3,  4],\n",
       "       [ 5,  6,  7,  8,  9],\n",
       "       [10, 11, 12, 13, 14]])"
      ]
     },
     "execution_count": 1,
     "metadata": {},
     "output_type": "execute_result"
    }
   ],
   "source": [
    "import numpy as np\n",
    "Arr = np.arange(15).reshape(3,5)\n",
    "Arr"
   ]
  },
  {
   "cell_type": "code",
   "execution_count": 2,
   "id": "02df5527",
   "metadata": {},
   "outputs": [
    {
     "data": {
      "text/plain": [
       "2"
      ]
     },
     "execution_count": 2,
     "metadata": {},
     "output_type": "execute_result"
    }
   ],
   "source": [
    "Arr.ndim"
   ]
  },
  {
   "cell_type": "code",
   "execution_count": 3,
   "id": "64a8c2c3",
   "metadata": {},
   "outputs": [
    {
     "data": {
      "text/plain": [
       "(3, 5)"
      ]
     },
     "execution_count": 3,
     "metadata": {},
     "output_type": "execute_result"
    }
   ],
   "source": [
    "Arr.shape"
   ]
  },
  {
   "cell_type": "code",
   "execution_count": 4,
   "id": "f463efce",
   "metadata": {},
   "outputs": [
    {
     "data": {
      "text/plain": [
       "15"
      ]
     },
     "execution_count": 4,
     "metadata": {},
     "output_type": "execute_result"
    }
   ],
   "source": [
    "Arr.size"
   ]
  },
  {
   "cell_type": "code",
   "execution_count": 7,
   "id": "1458a524",
   "metadata": {},
   "outputs": [
    {
     "data": {
      "text/plain": [
       "dtype('int32')"
      ]
     },
     "execution_count": 7,
     "metadata": {},
     "output_type": "execute_result"
    }
   ],
   "source": [
    "Arr.dtype"
   ]
  },
  {
   "cell_type": "code",
   "execution_count": 9,
   "id": "8ec66f25",
   "metadata": {},
   "outputs": [
    {
     "data": {
      "text/plain": [
       "4"
      ]
     },
     "execution_count": 9,
     "metadata": {},
     "output_type": "execute_result"
    }
   ],
   "source": [
    "Arr.itemsize"
   ]
  },
  {
   "cell_type": "code",
   "execution_count": 10,
   "id": "28e2277c",
   "metadata": {},
   "outputs": [
    {
     "data": {
      "text/plain": [
       "numpy.ndarray"
      ]
     },
     "execution_count": 10,
     "metadata": {},
     "output_type": "execute_result"
    }
   ],
   "source": [
    "type(Arr)"
   ]
  },
  {
   "cell_type": "markdown",
   "id": "0a725184",
   "metadata": {},
   "source": [
    "## 2、创建数组"
   ]
  },
  {
   "cell_type": "markdown",
   "id": "e7fdacfd",
   "metadata": {},
   "source": [
    "有好几种创建数组的方法。\n",
    "例如，你可以使用array函数从常规的Python列表和元组创造数组。所创建的数组类型由原序列中的元素类型推导而来。"
   ]
  },
  {
   "cell_type": "code",
   "execution_count": 12,
   "id": "4caae0d6",
   "metadata": {},
   "outputs": [
    {
     "data": {
      "text/plain": [
       "array([3, 4, 5])"
      ]
     },
     "execution_count": 12,
     "metadata": {},
     "output_type": "execute_result"
    }
   ],
   "source": [
    "Arr = np.array([3,4,5])\n",
    "Arr"
   ]
  },
  {
   "cell_type": "code",
   "execution_count": 14,
   "id": "86bb7568",
   "metadata": {},
   "outputs": [
    {
     "data": {
      "text/plain": [
       "numpy.ndarray"
      ]
     },
     "execution_count": 14,
     "metadata": {},
     "output_type": "execute_result"
    }
   ],
   "source": [
    "type(Arr)"
   ]
  },
  {
   "cell_type": "code",
   "execution_count": 15,
   "id": "1fe35c61",
   "metadata": {},
   "outputs": [
    {
     "data": {
      "text/plain": [
       "array([[3, 6, 2],\n",
       "       [5, 3, 1]])"
      ]
     },
     "execution_count": 15,
     "metadata": {},
     "output_type": "execute_result"
    }
   ],
   "source": [
    "Arr1 = np.array([\n",
    "    [3,6,2],\n",
    "    [5,3,1]\n",
    "])\n",
    "Arr1"
   ]
  },
  {
   "cell_type": "code",
   "execution_count": 16,
   "id": "ae821ee9",
   "metadata": {},
   "outputs": [
    {
     "data": {
      "text/plain": [
       "'int32'"
      ]
     },
     "execution_count": 16,
     "metadata": {},
     "output_type": "execute_result"
    }
   ],
   "source": [
    "Arr1.dtype.name"
   ]
  },
  {
   "cell_type": "markdown",
   "id": "8c4d5809",
   "metadata": {},
   "source": [
    "数组类型可以在创建时显示指定"
   ]
  },
  {
   "cell_type": "code",
   "execution_count": 20,
   "id": "062091fb",
   "metadata": {},
   "outputs": [
    {
     "data": {
      "text/plain": [
       "array([[3., 6., 2.],\n",
       "       [5., 3., 1.]], dtype=float32)"
      ]
     },
     "execution_count": 20,
     "metadata": {},
     "output_type": "execute_result"
    }
   ],
   "source": [
    "Arr1 = np.array([\n",
    "    [3,6,2],\n",
    "    [5,3,1]\n",
    "],dtype=np.float32)\n",
    "Arr1"
   ]
  },
  {
   "cell_type": "markdown",
   "id": "79cdc20c",
   "metadata": {},
   "source": [
    "通常，数组的元素开始都是未知的，但是它的大小已知。因此，Numpy提供了一些使用占位符创建数组的函数。这最小化了扩展数组的需要和高昂的运算代价。\n",
    "函数zeros创建一个全是0的数组，函数ones创建一个全1的数组，函数empty创建一个内容随机并且依赖与内存状态的数组。默认创建的数组类型(dtype)都是float64。"
   ]
  },
  {
   "cell_type": "code",
   "execution_count": 23,
   "id": "b8bdc524",
   "metadata": {},
   "outputs": [
    {
     "data": {
      "text/plain": [
       "array([[0., 0., 0.],\n",
       "       [0., 0., 0.],\n",
       "       [0., 0., 0.],\n",
       "       [0., 0., 0.]])"
      ]
     },
     "execution_count": 23,
     "metadata": {},
     "output_type": "execute_result"
    }
   ],
   "source": [
    "np.zeros([4,3])"
   ]
  },
  {
   "cell_type": "code",
   "execution_count": 21,
   "id": "7a69feb0",
   "metadata": {},
   "outputs": [
    {
     "data": {
      "text/plain": [
       "array([[1., 1.],\n",
       "       [1., 1.],\n",
       "       [1., 1.]])"
      ]
     },
     "execution_count": 21,
     "metadata": {},
     "output_type": "execute_result"
    }
   ],
   "source": [
    "np.ones([3,2])"
   ]
  },
  {
   "cell_type": "code",
   "execution_count": 26,
   "id": "3f09af25",
   "metadata": {},
   "outputs": [
    {
     "data": {
      "text/plain": [
       "array([[1., 1., 1.],\n",
       "       [1., 1., 1.]])"
      ]
     },
     "execution_count": 26,
     "metadata": {},
     "output_type": "execute_result"
    }
   ],
   "source": [
    "np.empty([2,3])"
   ]
  },
  {
   "cell_type": "code",
   "execution_count": 30,
   "id": "47402899",
   "metadata": {},
   "outputs": [
    {
     "data": {
      "text/plain": [
       "array([[1., 0.],\n",
       "       [0., 1.]])"
      ]
     },
     "execution_count": 30,
     "metadata": {},
     "output_type": "execute_result"
    }
   ],
   "source": [
    "np.eye(2)"
   ]
  },
  {
   "cell_type": "markdown",
   "id": "d7289678",
   "metadata": {},
   "source": [
    "为了创建一个数列，Numpy提供一个类似arange的函数返回数组而不是列表:"
   ]
  },
  {
   "cell_type": "code",
   "execution_count": 31,
   "id": "5319c403",
   "metadata": {},
   "outputs": [
    {
     "data": {
      "text/plain": [
       "array([1. , 1.5, 2. , 2.5, 3. , 3.5, 4. , 4.5])"
      ]
     },
     "execution_count": 31,
     "metadata": {},
     "output_type": "execute_result"
    }
   ],
   "source": [
    "np.arange(1,5,0.5)"
   ]
  },
  {
   "cell_type": "markdown",
   "id": "ca34e4f4",
   "metadata": {},
   "source": [
    "当arange使用浮点数参数时，由于有限的浮点数精度，通常无法预测获得的元素个数。因此，最好使用函数linspace去接收我们想要的元素个数来代替用range来指定步长。"
   ]
  },
  {
   "cell_type": "markdown",
   "id": "eb2c3ed1",
   "metadata": {},
   "source": [
    "## 3、打印数组"
   ]
  },
  {
   "cell_type": "markdown",
   "id": "d0818ba8",
   "metadata": {},
   "source": [
    "当你打印一个数组，NumPy以类似嵌套列表的形式显示它，但是呈以下布局：\n",
    "\n",
    "+ 最后的轴从左到右打印\n",
    "+ 次后的轴从顶向下打印\n",
    "+ 剩下的轴从顶向下打印，每个切片通过一个空行与下一个隔开\n",
    "+ 一维数组被打印成行，二维数组成矩阵，三维数组成矩阵列表。"
   ]
  },
  {
   "cell_type": "code",
   "execution_count": 32,
   "id": "f0531238",
   "metadata": {},
   "outputs": [
    {
     "data": {
      "text/plain": [
       "array([[0, 1, 2],\n",
       "       [3, 4, 5]])"
      ]
     },
     "execution_count": 32,
     "metadata": {},
     "output_type": "execute_result"
    }
   ],
   "source": [
    "np.arange(6).reshape(2,3)"
   ]
  },
  {
   "cell_type": "code",
   "execution_count": 33,
   "id": "90722f6d",
   "metadata": {},
   "outputs": [
    {
     "data": {
      "text/plain": [
       "array([[[ 0,  1,  2,  3],\n",
       "        [ 4,  5,  6,  7],\n",
       "        [ 8,  9, 10, 11]],\n",
       "\n",
       "       [[12, 13, 14, 15],\n",
       "        [16, 17, 18, 19],\n",
       "        [20, 21, 22, 23]]])"
      ]
     },
     "execution_count": 33,
     "metadata": {},
     "output_type": "execute_result"
    }
   ],
   "source": [
    "np.arange(24).reshape(2,3,4)"
   ]
  },
  {
   "cell_type": "markdown",
   "id": "339e03e4",
   "metadata": {},
   "source": [
    "## 4、基本运算"
   ]
  },
  {
   "cell_type": "markdown",
   "id": "1bb30e39",
   "metadata": {},
   "source": [
    "数组的算术运算是按元素的。新的数组被创建并且被结果填充"
   ]
  },
  {
   "cell_type": "code",
   "execution_count": 46,
   "id": "e6988598",
   "metadata": {},
   "outputs": [
    {
     "data": {
      "text/plain": [
       "array([10, 20, 30, 40])"
      ]
     },
     "execution_count": 46,
     "metadata": {},
     "output_type": "execute_result"
    }
   ],
   "source": [
    "A = np.arange(10,50,10)\n",
    "A"
   ]
  },
  {
   "cell_type": "code",
   "execution_count": 47,
   "id": "0d2fa838",
   "metadata": {},
   "outputs": [
    {
     "data": {
      "text/plain": [
       "array([1, 2, 3, 4])"
      ]
     },
     "execution_count": 47,
     "metadata": {},
     "output_type": "execute_result"
    }
   ],
   "source": [
    "B = np.arange(1,5)\n",
    "B"
   ]
  },
  {
   "cell_type": "code",
   "execution_count": 38,
   "id": "8db583f5",
   "metadata": {},
   "outputs": [
    {
     "data": {
      "text/plain": [
       "array([ 9, 18, 27, 36])"
      ]
     },
     "execution_count": 38,
     "metadata": {},
     "output_type": "execute_result"
    }
   ],
   "source": [
    "A - B"
   ]
  },
  {
   "cell_type": "code",
   "execution_count": 41,
   "id": "66b6f692",
   "metadata": {},
   "outputs": [
    {
     "data": {
      "text/plain": [
       "array([ 1,  4,  9, 16])"
      ]
     },
     "execution_count": 41,
     "metadata": {},
     "output_type": "execute_result"
    }
   ],
   "source": [
    "B ** 2"
   ]
  },
  {
   "cell_type": "code",
   "execution_count": 40,
   "id": "e312bc0b",
   "metadata": {},
   "outputs": [
    {
     "data": {
      "text/plain": [
       "array([-5.44021111,  9.12945251, -9.88031624,  7.4511316 ])"
      ]
     },
     "execution_count": 40,
     "metadata": {},
     "output_type": "execute_result"
    }
   ],
   "source": [
    "10 * np.sin(A)"
   ]
  },
  {
   "cell_type": "code",
   "execution_count": 42,
   "id": "53511d40",
   "metadata": {},
   "outputs": [
    {
     "data": {
      "text/plain": [
       "array([ True,  True,  True, False])"
      ]
     },
     "execution_count": 42,
     "metadata": {},
     "output_type": "execute_result"
    }
   ],
   "source": [
    "A<35"
   ]
  },
  {
   "cell_type": "markdown",
   "id": "6f781d31",
   "metadata": {},
   "source": [
    "不像许多矩阵语言，NumPy中的乘法运算符*指示按元素计算，矩阵乘法可以使用dot函数或创建矩阵对象实现(参见教程中的矩阵章节)"
   ]
  },
  {
   "cell_type": "code",
   "execution_count": 54,
   "id": "0e102e69",
   "metadata": {},
   "outputs": [
    {
     "data": {
      "text/plain": [
       "300"
      ]
     },
     "execution_count": 54,
     "metadata": {},
     "output_type": "execute_result"
    }
   ],
   "source": [
    "np.dot(A,B)"
   ]
  },
  {
   "cell_type": "code",
   "execution_count": 55,
   "id": "7c047e57",
   "metadata": {},
   "outputs": [
    {
     "data": {
      "text/plain": [
       "array([ 10,  40,  90, 160])"
      ]
     },
     "execution_count": 55,
     "metadata": {},
     "output_type": "execute_result"
    }
   ],
   "source": [
    "A*B"
   ]
  },
  {
   "cell_type": "markdown",
   "id": "d6845ecb",
   "metadata": {},
   "source": [
    "当运算的是不同类型的数组时，结果数组和更普遍和精确的已知，这种行为叫做 upcast"
   ]
  },
  {
   "cell_type": "code",
   "execution_count": 57,
   "id": "8e4e3423",
   "metadata": {},
   "outputs": [
    {
     "data": {
      "text/plain": [
       "'float64'"
      ]
     },
     "execution_count": 57,
     "metadata": {},
     "output_type": "execute_result"
    }
   ],
   "source": [
    "A = np.ones(3,dtype=np.int32)\n",
    "B = np.linspace(0,np.pi,3)\n",
    "B.dtype.name"
   ]
  },
  {
   "cell_type": "code",
   "execution_count": 59,
   "id": "d59d92d4",
   "metadata": {},
   "outputs": [
    {
     "data": {
      "text/plain": [
       "'float64'"
      ]
     },
     "execution_count": 59,
     "metadata": {},
     "output_type": "execute_result"
    }
   ],
   "source": [
    "C = A + B\n",
    "C.dtype.name"
   ]
  },
  {
   "cell_type": "markdown",
   "id": "cf1dc6ec",
   "metadata": {},
   "source": [
    "这些运算默认应用到数组好像它就是一个数字组成的列表，无关数组的形状。然而，指定axis参数你可以吧运算应用到数组指定的轴上："
   ]
  },
  {
   "cell_type": "code",
   "execution_count": 60,
   "id": "0c7440ca",
   "metadata": {},
   "outputs": [
    {
     "data": {
      "text/plain": [
       "array([[ 0,  1,  2],\n",
       "       [ 3,  4,  5],\n",
       "       [ 6,  7,  8],\n",
       "       [ 9, 10, 11]])"
      ]
     },
     "execution_count": 60,
     "metadata": {},
     "output_type": "execute_result"
    }
   ],
   "source": [
    "A = np.arange(12).reshape(4,3)\n",
    "A"
   ]
  },
  {
   "cell_type": "code",
   "execution_count": 61,
   "id": "3367b633",
   "metadata": {},
   "outputs": [
    {
     "data": {
      "text/plain": [
       "array([ 3, 12, 21, 30])"
      ]
     },
     "execution_count": 61,
     "metadata": {},
     "output_type": "execute_result"
    }
   ],
   "source": [
    "A.sum(axis=1)"
   ]
  },
  {
   "cell_type": "code",
   "execution_count": 64,
   "id": "b17c5a1c",
   "metadata": {},
   "outputs": [
    {
     "data": {
      "text/plain": [
       "array([[ 0,  1,  2],\n",
       "       [ 3,  5,  7],\n",
       "       [ 9, 12, 15],\n",
       "       [18, 22, 26]])"
      ]
     },
     "execution_count": 64,
     "metadata": {},
     "output_type": "execute_result"
    }
   ],
   "source": [
    "A.cumsum(axis=0)"
   ]
  },
  {
   "cell_type": "markdown",
   "id": "b2520ebf",
   "metadata": {},
   "source": [
    "## 5、通用函数 ufunc"
   ]
  },
  {
   "cell_type": "markdown",
   "id": "efd6bce9",
   "metadata": {},
   "source": [
    "Numpy提供常见的数学函数如 sin, cos 和 exp。在Numpy中，这些叫作通用函数 ufunc。在Numpy里这些函数作用按数组的元素运算，产生一个数组作为输出。"
   ]
  },
  {
   "cell_type": "code",
   "execution_count": 66,
   "id": "78d7dc9c",
   "metadata": {},
   "outputs": [],
   "source": [
    "A = np.linspace(0,np.pi,6)"
   ]
  },
  {
   "cell_type": "code",
   "execution_count": 68,
   "id": "c39d913c",
   "metadata": {},
   "outputs": [
    {
     "data": {
      "text/plain": [
       "array([0.00000000e+00, 5.87785252e-01, 9.51056516e-01, 9.51056516e-01,\n",
       "       5.87785252e-01, 1.22464680e-16])"
      ]
     },
     "execution_count": 68,
     "metadata": {},
     "output_type": "execute_result"
    }
   ],
   "source": [
    "np.sin(A)"
   ]
  },
  {
   "cell_type": "code",
   "execution_count": 69,
   "id": "bde214f3",
   "metadata": {},
   "outputs": [
    {
     "data": {
      "text/plain": [
       "array([ 1.        ,  0.80901699,  0.30901699, -0.30901699, -0.80901699,\n",
       "       -1.        ])"
      ]
     },
     "execution_count": 69,
     "metadata": {},
     "output_type": "execute_result"
    }
   ],
   "source": [
    "np.cos(A)"
   ]
  },
  {
   "cell_type": "markdown",
   "id": "0826bf2b",
   "metadata": {},
   "source": [
    "### 索引，切片和迭代"
   ]
  },
  {
   "cell_type": "code",
   "execution_count": 73,
   "id": "2f93b8ba",
   "metadata": {},
   "outputs": [
    {
     "data": {
      "text/plain": [
       "array([0, 1, 2, 3, 4, 5, 6, 7, 8, 9])"
      ]
     },
     "execution_count": 73,
     "metadata": {},
     "output_type": "execute_result"
    }
   ],
   "source": [
    "Arr = np.arange(10)\n",
    "Arr"
   ]
  },
  {
   "cell_type": "code",
   "execution_count": 72,
   "id": "3b863cb5",
   "metadata": {},
   "outputs": [
    {
     "data": {
      "text/plain": [
       "3"
      ]
     },
     "execution_count": 72,
     "metadata": {},
     "output_type": "execute_result"
    }
   ],
   "source": [
    "Arr[3]"
   ]
  },
  {
   "cell_type": "code",
   "execution_count": 74,
   "id": "4f47b156",
   "metadata": {},
   "outputs": [
    {
     "data": {
      "text/plain": [
       "array([3, 4, 5])"
      ]
     },
     "execution_count": 74,
     "metadata": {},
     "output_type": "execute_result"
    }
   ],
   "source": [
    "Arr[3:6]"
   ]
  },
  {
   "cell_type": "code",
   "execution_count": 76,
   "id": "c491b444",
   "metadata": {},
   "outputs": [
    {
     "data": {
      "text/plain": [
       "array([1000,    1, 1000,    3,    4,    5,    6,    7,    8,    9])"
      ]
     },
     "execution_count": 76,
     "metadata": {},
     "output_type": "execute_result"
    }
   ],
   "source": [
    "Arr[:4:2]=1000\n",
    "Arr"
   ]
  },
  {
   "cell_type": "code",
   "execution_count": 77,
   "id": "d7eb9a01",
   "metadata": {},
   "outputs": [
    {
     "data": {
      "text/plain": [
       "array([1000,    1, 1000,    3,    4,    5,    6,    7,    8,    9])"
      ]
     },
     "execution_count": 77,
     "metadata": {},
     "output_type": "execute_result"
    }
   ],
   "source": [
    "Arr[::-1]\n",
    "Arr"
   ]
  },
  {
   "cell_type": "code",
   "execution_count": 79,
   "id": "c06aa5a8",
   "metadata": {},
   "outputs": [
    {
     "name": "stdout",
     "output_type": "stream",
     "text": [
      "1000,1,1000,3,4,5,6,7,8,9,"
     ]
    }
   ],
   "source": [
    "for i in Arr:\n",
    "    print(i,end=\",\")"
   ]
  },
  {
   "cell_type": "code",
   "execution_count": 87,
   "id": "b83cdec0",
   "metadata": {},
   "outputs": [
    {
     "data": {
      "text/plain": [
       "array([[ 0,  1,  2,  3],\n",
       "       [10, 11, 12, 13],\n",
       "       [20, 21, 22, 23]])"
      ]
     },
     "execution_count": 87,
     "metadata": {},
     "output_type": "execute_result"
    }
   ],
   "source": [
    "def f(x,y):\n",
    "    return 10*x + y\n",
    "Arr1 = np.fromfunction(f,(3,4),dtype=np.int32)\n",
    "Arr1"
   ]
  },
  {
   "cell_type": "code",
   "execution_count": 92,
   "id": "879c24bb",
   "metadata": {},
   "outputs": [
    {
     "data": {
      "text/plain": [
       "array([[11, 12],\n",
       "       [21, 22]])"
      ]
     },
     "execution_count": 92,
     "metadata": {},
     "output_type": "execute_result"
    }
   ],
   "source": [
    "Arr1[1:3,1:3]"
   ]
  },
  {
   "cell_type": "markdown",
   "id": "4bd93847",
   "metadata": {},
   "source": [
    "然而，如果一个人想对每个数组中元素进行运算，我们可以使用flat属性，该属性是数组元素的一个迭代器:"
   ]
  },
  {
   "cell_type": "code",
   "execution_count": 93,
   "id": "8b14b14d",
   "metadata": {},
   "outputs": [
    {
     "name": "stdout",
     "output_type": "stream",
     "text": [
      "0,1,2,3,10,11,12,13,20,21,22,23,"
     ]
    }
   ],
   "source": [
    "for element in Arr1.flat:\n",
    "    print (element,end=\",\")"
   ]
  },
  {
   "cell_type": "markdown",
   "id": "49741bfc",
   "metadata": {},
   "source": [
    "## 6、形状操作"
   ]
  },
  {
   "cell_type": "markdown",
   "id": "ba0f714a",
   "metadata": {},
   "source": [
    "### >>>更改数组的形状<<<"
   ]
  },
  {
   "cell_type": "code",
   "execution_count": 97,
   "id": "aa85632f",
   "metadata": {},
   "outputs": [
    {
     "data": {
      "text/plain": [
       "(3, 4)"
      ]
     },
     "execution_count": 97,
     "metadata": {},
     "output_type": "execute_result"
    }
   ],
   "source": [
    "Arr = 10 * np.random.random((3,4))\n",
    "Arr.shape"
   ]
  },
  {
   "cell_type": "markdown",
   "id": "6ab9d64a",
   "metadata": {},
   "source": [
    "一个数组的形状可以被多种命令修改："
   ]
  },
  {
   "cell_type": "code",
   "execution_count": 98,
   "id": "b9f01d4d",
   "metadata": {},
   "outputs": [
    {
     "data": {
      "text/plain": [
       "array([6.95052648, 7.86721574, 8.59671872, 5.30065363, 1.74179758,\n",
       "       6.26236479, 2.88447388, 3.74885211, 4.29540453, 7.47898618,\n",
       "       3.09213443, 6.21981989])"
      ]
     },
     "execution_count": 98,
     "metadata": {},
     "output_type": "execute_result"
    }
   ],
   "source": [
    "Arr.ravel() # flatten the array"
   ]
  },
  {
   "cell_type": "code",
   "execution_count": 101,
   "id": "35969084",
   "metadata": {},
   "outputs": [
    {
     "data": {
      "text/plain": [
       "array([[6.95052648, 8.59671872, 1.74179758, 2.88447388, 4.29540453,\n",
       "        3.09213443],\n",
       "       [7.86721574, 5.30065363, 6.26236479, 3.74885211, 7.47898618,\n",
       "        6.21981989]])"
      ]
     },
     "execution_count": 101,
     "metadata": {},
     "output_type": "execute_result"
    }
   ],
   "source": [
    "Arr.shape= (6,2)\n",
    "Arr.transpose()"
   ]
  },
  {
   "cell_type": "markdown",
   "id": "1e996da0",
   "metadata": {},
   "source": [
    "由ravel()展平的数组元素的顺序通常是 C风格 的，就是说，最右边的索引变化得最快，所以元素a[0,0]之后是a[0,1]。如果数组被改变形状(reshape)成其它形状，数组仍然是 C风格 的。Numpy通常创建一个以这个顺序保存数据的数组，所以ravel()将总是不需要复制它的参数。但是如果数组是通过切片其它数组或有不同寻常的选项时，它可能需要被复制。函数reshape()和ravel()还可以被同过一些可选参数构建成 FORTRAN风格 的数组，即最左边的索引变化最快。\n",
    "\n",
    "reshape函数改变参数形状并返回它，而resize函数改变数组自身。"
   ]
  },
  {
   "cell_type": "markdown",
   "id": "c2da4b9e",
   "metadata": {},
   "source": [
    "### 组合(stack)不同的数组"
   ]
  },
  {
   "cell_type": "markdown",
   "id": "2dacd2de",
   "metadata": {},
   "source": [
    "### 将一个数组分割(split)成几个小数组"
   ]
  },
  {
   "cell_type": "markdown",
   "id": "48168b68",
   "metadata": {},
   "source": [
    "### 复制和视图"
   ]
  },
  {
   "cell_type": "code",
   "execution_count": null,
   "id": "9dd0ccf6",
   "metadata": {},
   "outputs": [],
   "source": []
  }
 ],
 "metadata": {
  "kernelspec": {
   "display_name": "Python 3 (ipykernel)",
   "language": "python",
   "name": "python3"
  },
  "language_info": {
   "codemirror_mode": {
    "name": "ipython",
    "version": 3
   },
   "file_extension": ".py",
   "mimetype": "text/x-python",
   "name": "python",
   "nbconvert_exporter": "python",
   "pygments_lexer": "ipython3",
   "version": "3.9.13"
  }
 },
 "nbformat": 4,
 "nbformat_minor": 5
}
