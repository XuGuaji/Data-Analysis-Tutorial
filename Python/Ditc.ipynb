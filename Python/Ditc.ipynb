{
 "cells": [
  {
   "cell_type": "markdown",
   "id": "7291eec0",
   "metadata": {},
   "source": [
    "## 1. 使用字典"
   ]
  },
  {
   "cell_type": "markdown",
   "id": "f961cc4b",
   "metadata": {},
   "source": [
    "### 1.1 访问字典中的值"
   ]
  },
  {
   "cell_type": "code",
   "execution_count": 2,
   "id": "36ea5938",
   "metadata": {},
   "outputs": [
    {
     "data": {
      "text/plain": [
       "'green'"
      ]
     },
     "execution_count": 2,
     "metadata": {},
     "output_type": "execute_result"
    }
   ],
   "source": [
    "alien_0 = {'color':'green','points':5}\n",
    "alien_0['color']"
   ]
  },
  {
   "cell_type": "code",
   "execution_count": 3,
   "id": "f75b9179",
   "metadata": {},
   "outputs": [
    {
     "data": {
      "text/plain": [
       "5"
      ]
     },
     "execution_count": 3,
     "metadata": {},
     "output_type": "execute_result"
    }
   ],
   "source": [
    "alien_0['points']"
   ]
  },
  {
   "cell_type": "markdown",
   "id": "702c3960",
   "metadata": {},
   "source": [
    "### 1.2 添加键值对"
   ]
  },
  {
   "cell_type": "code",
   "execution_count": 4,
   "id": "183af319",
   "metadata": {},
   "outputs": [],
   "source": [
    "alien_0['x_position'] = 0\n",
    "alien_0['y_position'] = 25"
   ]
  },
  {
   "cell_type": "markdown",
   "id": "39dbf44e",
   "metadata": {},
   "source": [
    "### 1.3 修改字典中的值"
   ]
  },
  {
   "cell_type": "code",
   "execution_count": 5,
   "id": "92d49e24",
   "metadata": {},
   "outputs": [],
   "source": [
    "alien_0['color'] = 'yellow'"
   ]
  },
  {
   "cell_type": "markdown",
   "id": "67269fdb",
   "metadata": {},
   "source": [
    "### 1.4 删除键值对"
   ]
  },
  {
   "cell_type": "code",
   "execution_count": 6,
   "id": "672a43e2",
   "metadata": {},
   "outputs": [
    {
     "data": {
      "text/plain": [
       "{'color': 'yellow', 'x_position': 0, 'y_position': 25}"
      ]
     },
     "execution_count": 6,
     "metadata": {},
     "output_type": "execute_result"
    }
   ],
   "source": [
    "del alien_0['points']\n",
    "alien_0"
   ]
  },
  {
   "cell_type": "markdown",
   "id": "4770e21e",
   "metadata": {},
   "source": [
    "### 1.5 使用get来访问值\n",
    "\n",
    "key不存在的情况下，默认的访问方式会崩溃，get()返回一个默认值。"
   ]
  },
  {
   "cell_type": "code",
   "execution_count": 14,
   "id": "535d868c",
   "metadata": {},
   "outputs": [
    {
     "name": "stdout",
     "output_type": "stream",
     "text": [
      "没有值就说这句话\n"
     ]
    }
   ],
   "source": [
    "alien_1 ={'color':'green','speed':'slow'}\n",
    "point_value = alien_1.get('points','没有值就说这句话')\n",
    "print(point_value)"
   ]
  },
  {
   "cell_type": "markdown",
   "id": "4387bf98",
   "metadata": {},
   "source": [
    "## 2. 遍历字典"
   ]
  },
  {
   "cell_type": "markdown",
   "id": "01623522",
   "metadata": {},
   "source": [
    "### 2.1 遍历所有键值对"
   ]
  },
  {
   "cell_type": "code",
   "execution_count": 16,
   "id": "788f9bd2",
   "metadata": {},
   "outputs": [
    {
     "name": "stdout",
     "output_type": "stream",
     "text": [
      "key:username,value:efermi\n",
      "key:first,value:enrico\n",
      "key:last,value:fermi\n"
     ]
    }
   ],
   "source": [
    "user_0 = {\n",
    "    'username':'efermi',\n",
    "    'first':'enrico',\n",
    "    'last':'fermi'\n",
    "}\n",
    "for k,v in user_0.items():\n",
    "    print(f\"key:{k},value:{v}\")"
   ]
  },
  {
   "cell_type": "code",
   "execution_count": null,
   "id": "3c1264bd",
   "metadata": {},
   "outputs": [],
   "source": []
  }
 ],
 "metadata": {
  "kernelspec": {
   "display_name": "Python 3 (ipykernel)",
   "language": "python",
   "name": "python3"
  },
  "language_info": {
   "codemirror_mode": {
    "name": "ipython",
    "version": 3
   },
   "file_extension": ".py",
   "mimetype": "text/x-python",
   "name": "python",
   "nbconvert_exporter": "python",
   "pygments_lexer": "ipython3",
   "version": "3.9.13"
  }
 },
 "nbformat": 4,
 "nbformat_minor": 5
}
